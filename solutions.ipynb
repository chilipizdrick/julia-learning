{
 "cells": [
  {
   "cell_type": "markdown",
   "metadata": {},
   "source": [
    "# Solution list"
   ]
  },
  {
   "cell_type": "markdown",
   "metadata": {},
   "source": [
    "### Task 1: Straight cross"
   ]
  },
  {
   "cell_type": "code",
   "execution_count": 6,
   "metadata": {},
   "outputs": [],
   "source": [
    "include(\"Problems/StraightCross.jl\")\n",
    "\n",
    "for case in 1:length(readdir(\"test_cases/straight_cross\"))\n",
    "    input_file_path = \"test_cases/straight_cross/case$case/input.sit\"\n",
    "    sr = SmartRobot(;file_name=input_file_path)\n",
    "    straight_cross!(sr)\n",
    "end"
   ]
  },
  {
   "cell_type": "markdown",
   "metadata": {},
   "source": [
    "### Task 2: Perimeter"
   ]
  },
  {
   "cell_type": "code",
   "execution_count": 2,
   "metadata": {},
   "outputs": [
    {
     "data": {
      "text/plain": [
       "Any[]"
      ]
     },
     "metadata": {},
     "output_type": "display_data"
    }
   ],
   "source": [
    "include(\"Problems/Perimeter.jl\")\n",
    "\n",
    "input_file_path = \"test_cases/perimeter/case1/input.sit\"\n",
    "sr = SmartRobot(;file_name=input_file_path)\n",
    "perimeter!(sr)"
   ]
  },
  {
   "cell_type": "markdown",
   "metadata": {},
   "source": [
    "### Task 3: Fill field"
   ]
  },
  {
   "cell_type": "code",
   "execution_count": 10,
   "metadata": {},
   "outputs": [],
   "source": [
    "include(\"Problems/FillField.jl\")\n",
    "\n",
    "for case in 1:length(readdir(\"test_cases/fill_field\"))\n",
    "    input_file_path = \"test_cases/fill_field/case$case/input.sit\"\n",
    "    sr = SmartRobot(;file_name=input_file_path)\n",
    "    fill_field!(sr)\n",
    "end"
   ]
  },
  {
   "cell_type": "markdown",
   "metadata": {},
   "source": [
    "### Task 4: Diagonal cross\n"
   ]
  },
  {
   "cell_type": "code",
   "execution_count": 11,
   "metadata": {},
   "outputs": [],
   "source": [
    "include(\"Problems/DiagonalCross.jl\")\n",
    "\n",
    "for case in 1:length(readdir(\"test_cases/diagonal_cross\"))\n",
    "    input_file_path = \"test_cases/diagonal_cross/case$case/input.sit\"\n",
    "    sr = SmartRobot(;file_name=input_file_path)\n",
    "    diagonal_cross!(sr)\n",
    "end"
   ]
  },
  {
   "cell_type": "markdown",
   "metadata": {},
   "source": [
    "### Task 5: Fill frames"
   ]
  },
  {
   "cell_type": "code",
   "execution_count": 13,
   "metadata": {},
   "outputs": [],
   "source": [
    "include(\"Problems/FillFrames.jl\")\n",
    "\n",
    "for case in 1:length(readdir(\"test_cases/fill_frames\"))\n",
    "    input_file_path = \"test_cases/fill_frames/case$case/input.sit\"\n",
    "    sr = SmartRobot(;file_name=input_file_path)\n",
    "    fill_frames!(sr)\n",
    "end"
   ]
  },
  {
   "cell_type": "markdown",
   "metadata": {},
   "source": [
    "### Task 6(a): Border Perimeter"
   ]
  },
  {
   "cell_type": "code",
   "execution_count": 11,
   "metadata": {},
   "outputs": [
    {
     "data": {
      "text/plain": [
       "Any[]"
      ]
     },
     "metadata": {},
     "output_type": "display_data"
    }
   ],
   "source": [
    "include(\"Problems/Perimeter.jl\")\n",
    "\n",
    "input_file_path = \"test_cases/perimeter/case2/input.sit\"\n",
    "sr = SmartRobot(;file_name=input_file_path)\n",
    "perimeter!(sr)"
   ]
  },
  {
   "cell_type": "markdown",
   "metadata": {},
   "source": [
    "### Task 6(b): Four Points"
   ]
  },
  {
   "cell_type": "code",
   "execution_count": 3,
   "metadata": {},
   "outputs": [],
   "source": [
    "include(\"Problems/FourPoints.jl\")\n",
    "\n",
    "for case in 1:length(readdir(\"test_cases/four_points\"))\n",
    "    input_file_path = \"test_cases/four_points/case$case/input.sit\"\n",
    "    sr = SmartRobot(;file_name=input_file_path)\n",
    "    four_points!(sr)\n",
    "end"
   ]
  },
  {
   "cell_type": "markdown",
   "metadata": {},
   "source": [
    "### Task 7: Find gap in infinite wall"
   ]
  },
  {
   "cell_type": "code",
   "execution_count": 4,
   "metadata": {},
   "outputs": [],
   "source": [
    "include(\"Problems/FindGapInInfiniteWall.jl\")\n",
    "\n",
    "for case in 1:length(readdir(\"test_cases/find_gap_in_infinite_wall\"))\n",
    "    input_file_path = \"test_cases/find_gap_in_infinite_wall/case$case/input.sit\"\n",
    "    sr = SmartRobot(;file_name=input_file_path)\n",
    "    find_gap_in_infinite_wall!(sr)\n",
    "end"
   ]
  },
  {
   "cell_type": "markdown",
   "metadata": {},
   "source": [
    "### Task 8: Find marker on infinite field"
   ]
  },
  {
   "cell_type": "code",
   "execution_count": 5,
   "metadata": {},
   "outputs": [],
   "source": [
    "include(\"Problems/FindMarkerOnInfiniteField.jl\")\n",
    "\n",
    "for case in 1:length(readdir(\"test_cases/find_marker_on_infinite_field\"))\n",
    "    input_file_path = \"test_cases/find_marker_on_infinite_field/case$case/input.sit\"\n",
    "    sr = SmartRobot(;file_name=input_file_path)\n",
    "    find_marker_on_infinite_field!(sr)\n",
    "end"
   ]
  },
  {
   "cell_type": "markdown",
   "metadata": {},
   "source": [
    "### Task 9: Mark chess board"
   ]
  },
  {
   "cell_type": "code",
   "execution_count": 6,
   "metadata": {},
   "outputs": [],
   "source": [
    "include(\"Problems/MarkChessBoard.jl\")\n",
    "\n",
    "for case in 1:length(readdir(\"test_cases/mark_chess_board\"))\n",
    "    input_file_path = \"test_cases/mark_chess_board/case$case/input.sit\"\n",
    "    sr = SmartRobot(;file_name=input_file_path)\n",
    "    mark_chess_board!(sr)\n",
    "end"
   ]
  },
  {
   "cell_type": "markdown",
   "metadata": {},
   "source": [
    "### Task 10: Mark big chess board"
   ]
  },
  {
   "cell_type": "code",
   "execution_count": 8,
   "metadata": {},
   "outputs": [],
   "source": [
    "include(\"Problems/MarkBigChessBoard.jl\")\n",
    "\n",
    "for case in 1:length(readdir(\"test_cases/mark_big_chess_board\"))\n",
    "    input_file_path = \"test_cases/mark_big_chess_board/case$case/input.sit\"\n",
    "    sr = SmartRobot(;file_name=input_file_path)\n",
    "    mark_big_chess_board!(sr, case)\n",
    "end"
   ]
  },
  {
   "cell_type": "markdown",
   "metadata": {},
   "source": [
    "### Task 11: Count bariers"
   ]
  },
  {
   "cell_type": "code",
   "execution_count": 9,
   "metadata": {},
   "outputs": [
    {
     "name": "stdout",
     "output_type": "stream",
     "text": [
      "20\n"
     ]
    }
   ],
   "source": [
    "include(\"Problems/CountBariers.jl\")\n",
    "\n",
    "for case in 1:length(readdir(\"test_cases/count_bariers\"))\n",
    "    input_file_path = \"test_cases/count_bariers/case$case/input.sit\"\n",
    "    sr = SmartRobot(;file_name=input_file_path)\n",
    "    println(count_bariers!(sr))\n",
    "end"
   ]
  },
  {
   "cell_type": "markdown",
   "metadata": {},
   "source": [
    "### Task 12: Count bariers considering bariers with one gap as one"
   ]
  },
  {
   "cell_type": "code",
   "execution_count": 10,
   "metadata": {},
   "outputs": [
    {
     "name": "stdout",
     "output_type": "stream",
     "text": [
      "12\n"
     ]
    }
   ],
   "source": [
    "include(\"Problems/CountBariersOneGap.jl\")\n",
    "\n",
    "for case in 1:length(readdir(\"test_cases/count_bariers_one_gap\"))\n",
    "    input_file_path = \"test_cases/count_bariers_one_gap/case$case/input.sit\"\n",
    "    sr = SmartRobot(;file_name=input_file_path)\n",
    "    println(count_bariers_one_gap!(sr))\n",
    "end"
   ]
  }
 ],
 "metadata": {
  "kernelspec": {
   "display_name": "Julia 1.9.3",
   "language": "julia",
   "name": "julia-1.9"
  },
  "language_info": {
   "file_extension": ".jl",
   "mimetype": "application/julia",
   "name": "julia",
   "version": "1.9.3"
  }
 },
 "nbformat": 4,
 "nbformat_minor": 2
}
