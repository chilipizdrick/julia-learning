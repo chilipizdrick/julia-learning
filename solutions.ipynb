{
 "cells": [
  {
   "cell_type": "markdown",
   "metadata": {},
   "source": [
    "# Задачи на автомат\n",
    "Обе задачи решаются одной и той же функцией, которая выдает \"*положительную площадь*\" замкнутого контура, если обход был произведен снаружи, и \"*отрицательную площадь*\", если обход был совершен изнутри, подобно определителю матрицы."
   ]
  },
  {
   "cell_type": "markdown",
   "metadata": {},
   "source": [
    "### Задача 1(39): Определить внутри или снаружи замкнутого контура находится робот"
   ]
  },
  {
   "cell_type": "code",
   "execution_count": 1,
   "metadata": {},
   "outputs": [
    {
     "name": "stdout",
     "output_type": "stream",
     "text": [
      "Робот внутри контура.\n"
     ]
    },
    {
     "name": "stdout",
     "output_type": "stream",
     "text": [
      "Робот внутри контура.\n"
     ]
    },
    {
     "name": "stdout",
     "output_type": "stream",
     "text": [
      "Робот внутри контура.\n"
     ]
    },
    {
     "name": "stdout",
     "output_type": "stream",
     "text": [
      "Робот снаружи контура.\n"
     ]
    },
    {
     "name": "stdout",
     "output_type": "stream",
     "text": [
      "Робот снаружи контура.\n"
     ]
    },
    {
     "name": "stdout",
     "output_type": "stream",
     "text": [
      "Робот снаружи контура.\n"
     ]
    }
   ],
   "source": [
    "include(\"RobotUtils.jl\")\n",
    "\n",
    "\n",
    "\"\"\"\n",
    "This function returns true if robot is located outside the measured conture. \n",
    "Returns false if robot is located inside the measured conture.\n",
    "\"\"\"\n",
    "function determine_relative_conture_position!(ar::AreaRobot, side::HorizonSide)::Bool\n",
    "    return calculate_area_determinant!(ar, side) > 0 ? true : false\n",
    "end\n",
    "\n",
    "\n",
    "for case in 1:length(readdir(\"test_cases/determine_relative_conture_position\"))\n",
    "    input_file_path = \"test_cases/determine_relative_conture_position/case$case/input.sit\"\n",
    "    ar = AreaRobot(; file_name=input_file_path)\n",
    "    if determine_relative_conture_position!(ar, (Ost, Ost, Ost, Ost, Nord, West)[case])\n",
    "        println(\"Робот снаружи контура.\")\n",
    "    else\n",
    "        println(\"Робот внутри контура.\")\n",
    "    end\n",
    "end\n",
    "\n",
    "# Test 1: Робот внутри контура.\n",
    "# Test 2: Робот внутри контура.\n",
    "# Test 3: Робот внутри контура.\n",
    "# Test 4: Робот снаружи контура.\n",
    "# Test 5: Робот снаружи контура.\n",
    "# Test 6: Робот снаружи контура."
   ]
  },
  {
   "cell_type": "markdown",
   "metadata": {},
   "source": [
    "### Задача 2(40): Найти площадь замкнутого контура, обходя его снаружи"
   ]
  },
  {
   "cell_type": "code",
   "execution_count": 2,
   "metadata": {},
   "outputs": [
    {
     "name": "stdout",
     "output_type": "stream",
     "text": [
      "19\n"
     ]
    },
    {
     "name": "stdout",
     "output_type": "stream",
     "text": [
      "38\n"
     ]
    },
    {
     "name": "stdout",
     "output_type": "stream",
     "text": [
      "85\n"
     ]
    },
    {
     "name": "stdout",
     "output_type": "stream",
     "text": [
      "43\n"
     ]
    }
   ],
   "source": [
    "include(\"RobotUtils.jl\")\n",
    "\n",
    "\n",
    "function calculate_conture_area!(ar::AreaRobot, side::HorizonSide)::Int64\n",
    "    return abs(calculate_area_determinant!(ar, side))\n",
    "end\n",
    "\n",
    "\n",
    "for case in 1:length(readdir(\"test_cases/calculate_conture_area\"))\n",
    "    input_file_path = \"test_cases/calculate_conture_area/case$case/input.sit\"\n",
    "    ar = AreaRobot(; file_name=input_file_path)\n",
    "    println(calculate_conture_area!(ar, (Ost, Nord, West, West)[case]))\n",
    "end\n",
    "\n",
    "# Test 1: 19\n",
    "# Test 2: 38\n",
    "# Test 3: 85\n",
    "# Test 4: 43"
   ]
  },
  {
   "cell_type": "markdown",
   "metadata": {},
   "source": [
    "# Solution list"
   ]
  },
  {
   "cell_type": "markdown",
   "metadata": {},
   "source": [
    "### Task 1: Straight cross"
   ]
  },
  {
   "cell_type": "code",
   "execution_count": 3,
   "metadata": {},
   "outputs": [],
   "source": [
    "include(\"RobotUtils.jl\")\n",
    "\n",
    "\n",
    "function straight_cross!(sr::SmartRobot)\n",
    "    for side in (HorizonSide(i) for i = 0:3)\n",
    "        move_steps!(sr, invert(side), mark_line!(sr, side))\n",
    "    end\n",
    "end\n",
    "\n",
    "\n",
    "for case in 1:length(readdir(\"test_cases/straight_cross\"))\n",
    "    input_file_path = \"test_cases/straight_cross/case$case/input.sit\"\n",
    "    sr = SmartRobot(; file_name=input_file_path)\n",
    "    straight_cross!(sr)\n",
    "end"
   ]
  },
  {
   "cell_type": "markdown",
   "metadata": {},
   "source": [
    "### Task 2: Perimeter"
   ]
  },
  {
   "cell_type": "code",
   "execution_count": 5,
   "metadata": {},
   "outputs": [],
   "source": [
    "include(\"RobotUtils.jl\")\n",
    "\n",
    "\n",
    "function perimeter!(sr::SmartRobot)\n",
    "    move_to_corner!(sr, WestSud)\n",
    "    path = copy(sr.path)\n",
    "    mark_outer_perimeter_from_corner!(sr, WestSud)\n",
    "    inv_path = invert(path)\n",
    "    follow_path!(sr, inv_path)\n",
    "end\n",
    "\n",
    "\n",
    "input_file_path = \"test_cases/perimeter/case1/input.sit\"\n",
    "sr = SmartRobot(; file_name=input_file_path)\n",
    "perimeter!(sr)"
   ]
  },
  {
   "cell_type": "markdown",
   "metadata": {},
   "source": [
    "### Task 3: Fill field"
   ]
  },
  {
   "cell_type": "code",
   "execution_count": 6,
   "metadata": {},
   "outputs": [],
   "source": [
    "include(\"RobotUtils.jl\")\n",
    "\n",
    "\n",
    "function fill_field!(sr::SmartRobot)\n",
    "    move_to_corner!(sr, WestSud)\n",
    "    path = copy(sr.path)\n",
    "    mark_snake_condition!(sr, Ost, Nord, (r) -> true, (r) -> false)\n",
    "    move_to_corner!(sr, WestSud)\n",
    "    inv_path = invert(path)\n",
    "    follow_path!(sr, inv_path)\n",
    "end\n",
    "\n",
    "\n",
    "for case in 1:length(readdir(\"test_cases/fill_field\"))\n",
    "    input_file_path = \"test_cases/fill_field/case$case/input.sit\"\n",
    "    sr = SmartRobot(; file_name=input_file_path)\n",
    "    fill_field!(sr)\n",
    "end"
   ]
  },
  {
   "cell_type": "markdown",
   "metadata": {},
   "source": [
    "### Task 4: Diagonal cross\n"
   ]
  },
  {
   "cell_type": "code",
   "execution_count": 4,
   "metadata": {},
   "outputs": [],
   "source": [
    "include(\"RobotUtils.jl\")\n",
    "\n",
    "\n",
    "function diagonal_cross!(sr::SmartRobot)\n",
    "    for diagonal in (Diagonal(i) for i = 0:3)\n",
    "        move_steps!(sr, invert(diagonal), mark_line!(sr, diagonal))\n",
    "    end\n",
    "end\n",
    "\n",
    "\n",
    "for case in 1:length(readdir(\"test_cases/diagonal_cross\"))\n",
    "    input_file_path = \"test_cases/diagonal_cross/case$case/input.sit\"\n",
    "    sr = SmartRobot(; file_name=input_file_path)\n",
    "    diagonal_cross!(sr)\n",
    "end"
   ]
  },
  {
   "cell_type": "markdown",
   "metadata": {},
   "source": [
    "### Task 5: Fill frames"
   ]
  },
  {
   "cell_type": "code",
   "execution_count": 8,
   "metadata": {},
   "outputs": [],
   "source": [
    "include(\"RobotUtils.jl\")\n",
    "\n",
    "\n",
    "function fill_frames!(sr::SmartRobot)\n",
    "    move_to_corner!(sr, WestSud)\n",
    "    path = copy(sr.path)\n",
    "    mark_outer_perimeter_from_corner!(sr, WestSud)\n",
    "    scan_until_nord_border!(sr, WestSud)\n",
    "    while isborder(sr, Nord)\n",
    "        move!(sr, West)\n",
    "    end\n",
    "    mark_inner_perimeter_from_corner!(sr, WestSud)\n",
    "    move_to_corner!(sr, WestSud)\n",
    "    inv_path = invert(path)\n",
    "    follow_path!(sr, inv_path)\n",
    "end\n",
    "\n",
    "function scan_until_nord_border!(sr::SmartRobot, corner::Diagonal)\n",
    "    @assert corner == WestSud || corner == SudOst\n",
    "    if corner == WestSud\n",
    "        side = Ost\n",
    "    else # if corner == SudOst\n",
    "        side = West\n",
    "    end\n",
    "    while !isborder(sr, Nord)\n",
    "        if !isborder(sr, side)\n",
    "            move!(sr, side)\n",
    "        else\n",
    "            move!(sr, Nord)\n",
    "            side = invert(side)\n",
    "        end\n",
    "    end\n",
    "end\n",
    "\n",
    "function mark_inner_perimeter_from_corner!(sr::SmartRobot, corner::Diagonal)\n",
    "    side_tuple = associate_diagonal(corner)\n",
    "    side = invert(side_tuple[1])\n",
    "    for _ in 0:4\n",
    "        mark_until_off_wall!(sr, side)\n",
    "        side = rotate(side)\n",
    "    end\n",
    "end\n",
    "\n",
    "function mark_until_off_wall!(sr::SmartRobot, side::HorizonSide)\n",
    "    move!(sr, side)\n",
    "    putmarker!(sr)\n",
    "    while isborder(sr, rotate(side))\n",
    "        move!(sr, side)\n",
    "        putmarker!(sr)\n",
    "    end\n",
    "end\n",
    "for case in 1:length(readdir(\"test_cases/fill_frames\"))\n",
    "    input_file_path = \"test_cases/fill_frames/case$case/input.sit\"\n",
    "    sr = SmartRobot(; file_name=input_file_path)\n",
    "    fill_frames!(sr)\n",
    "end"
   ]
  },
  {
   "cell_type": "markdown",
   "metadata": {},
   "source": [
    "### Task 6(a): Border Perimeter"
   ]
  },
  {
   "cell_type": "code",
   "execution_count": 9,
   "metadata": {},
   "outputs": [],
   "source": [
    "include(\"RobotUtils.jl\")\n",
    "\n",
    "\n",
    "function perimeter!(sr::SmartRobot)\n",
    "    move_to_corner!(sr, WestSud)\n",
    "    path = copy(sr.path)\n",
    "    mark_outer_perimeter_from_corner!(sr, WestSud)\n",
    "    inv_path = invert(path)\n",
    "    follow_path!(sr, inv_path)\n",
    "end\n",
    "\n",
    "\n",
    "input_file_path = \"test_cases/perimeter/case2/input.sit\"\n",
    "sr = SmartRobot(; file_name=input_file_path)\n",
    "perimeter!(sr)"
   ]
  },
  {
   "cell_type": "markdown",
   "metadata": {},
   "source": [
    "### Task 6(b): Four Points"
   ]
  },
  {
   "cell_type": "code",
   "execution_count": 5,
   "metadata": {},
   "outputs": [],
   "source": [
    "include(\"RobotUtils.jl\")\n",
    "\n",
    "\n",
    "function four_points!(sr::SmartRobot)\n",
    "    move_to_corner!(sr, WestSud)\n",
    "    path = copy(sr.path)\n",
    "    for side in (Ost, Nord, West, Sud)\n",
    "        mark_line_condition!(\n",
    "            sr, side, \n",
    "            (r) -> getcoord(r).x == 0 || getcoord(r).y == 0, \n",
    "            (r) -> isborder(r, side)\n",
    "        )\n",
    "    end\n",
    "    move_to_corner!(sr, WestSud)\n",
    "    inv_path = invert(path)\n",
    "    follow_path!(sr, inv_path)\n",
    "end\n",
    "\n",
    "\n",
    "for case in 1:length(readdir(\"test_cases/four_points\"))\n",
    "    input_file_path = \"test_cases/four_points/case$case/input.sit\"\n",
    "    sr = SmartRobot(; file_name=input_file_path)\n",
    "    four_points!(sr)\n",
    "end"
   ]
  },
  {
   "cell_type": "markdown",
   "metadata": {},
   "source": [
    "### Task 7: Find gap in infinite wall"
   ]
  },
  {
   "cell_type": "code",
   "execution_count": 11,
   "metadata": {},
   "outputs": [],
   "source": [
    "include(\"RobotUtils.jl\")\n",
    "\n",
    "\n",
    "function find_gap_in_infinite_wall!(sr::SmartRobot)\n",
    "    border_side = check_border(sr)\n",
    "    if border_side == Ost || border_side == West\n",
    "        side = Nord\n",
    "    else # if border_side == Nord || border_side == Sud\n",
    "        side = Ost\n",
    "    end\n",
    "    mark_shuttle_condition!(sr, side, (r) -> false, (r) -> !isborder(r, border_side))\n",
    "    move!(sr, border_side)\n",
    "    path = copy(sr.path)\n",
    "    inv_path = invert(path)\n",
    "    move_steps!(sr, inv_path.path[2][1], div(inv_path.path[2][2], 2))\n",
    "end\n",
    "\n",
    "\"\"\"\n",
    "The function returns the first found border in the order (Ost, Nord, West, Sud).\n",
    "\"\"\"\n",
    "function check_border(sr::SmartRobot)::HorizonSide\n",
    "    for side in (Ost, Nord, West, Sud)\n",
    "        if isborder(sr, side)\n",
    "            return side\n",
    "        end\n",
    "    end\n",
    "end\n",
    "\n",
    "for case in 1:length(readdir(\"test_cases/find_gap_in_infinite_wall\"))\n",
    "    input_file_path = \"test_cases/find_gap_in_infinite_wall/case$case/input.sit\"\n",
    "    sr = SmartRobot(; file_name=input_file_path)\n",
    "    find_gap_in_infinite_wall!(sr)\n",
    "end"
   ]
  },
  {
   "cell_type": "markdown",
   "metadata": {},
   "source": [
    "### Task 8: Find marker on infinite field"
   ]
  },
  {
   "cell_type": "code",
   "execution_count": 12,
   "metadata": {},
   "outputs": [],
   "source": [
    "include(\"RobotUtils.jl\")\n",
    "\n",
    "\n",
    "function find_marker_on_infinite_field!(sr::SmartRobot)\n",
    "    mark_spiral_condition!(sr, Ost, (r) -> false, (r) -> ismarker(r))\n",
    "end\n",
    "\n",
    "\n",
    "for case in 1:length(readdir(\"test_cases/find_marker_on_infinite_field\"))\n",
    "    input_file_path = \"test_cases/find_marker_on_infinite_field/case$case/input.sit\"\n",
    "    sr = SmartRobot(; file_name=input_file_path)\n",
    "    find_marker_on_infinite_field!(sr)\n",
    "end"
   ]
  },
  {
   "cell_type": "markdown",
   "metadata": {},
   "source": [
    "### Task 9: Mark chess board"
   ]
  },
  {
   "cell_type": "code",
   "execution_count": 13,
   "metadata": {},
   "outputs": [],
   "source": [
    "include(\"RobotUtils.jl\")\n",
    "\n",
    "\n",
    "function mark_chess_board!(sr::SmartRobot)\n",
    "    move_to_corner!(sr, WestSud)\n",
    "    path = copy(sr.path)\n",
    "    moving_side = Ost\n",
    "    ortogonal_side = Nord\n",
    "\n",
    "    mark_snake_condition!(sr, moving_side, ortogonal_side, (r) -> mod(getcoord(r).x + getcoord(r).y, 2) == 0, (r) -> false)\n",
    "    move_to_corner!(sr, WestSud)\n",
    "    inv_path = invert(path)\n",
    "    follow_path!(sr, inv_path)\n",
    "end\n",
    "\n",
    "\n",
    "for case in 1:length(readdir(\"test_cases/mark_chess_board\"))\n",
    "    input_file_path = \"test_cases/mark_chess_board/case$case/input.sit\"\n",
    "    sr = SmartRobot(; file_name=input_file_path)\n",
    "    mark_chess_board!(sr)\n",
    "end"
   ]
  },
  {
   "cell_type": "markdown",
   "metadata": {},
   "source": [
    "### Task 10: Mark big chess board"
   ]
  },
  {
   "cell_type": "code",
   "execution_count": 1,
   "metadata": {},
   "outputs": [],
   "source": [
    "include(\"RobotUtils.jl\")\n",
    "\n",
    "\n",
    "function mark_big_chess_board!(sr::SmartRobot, scale::Integer)\n",
    "    move_to_corner!(sr, WestSud)\n",
    "    path = copy(sr.path)\n",
    "    clear_data!(sr)\n",
    "    moving_side = Ost\n",
    "    ortogonal_side = Nord\n",
    "    mark_condition = r -> begin\n",
    "         (mod(getcoord(r).x, scale * 2) < scale &&\n",
    "          mod(getcoord(r).y, scale * 2) < scale) ||\n",
    "        !(mod(getcoord(r).x, scale * 2) < scale ||\n",
    "          mod(getcoord(r).y, scale * 2) < scale)\n",
    "    end\n",
    "\n",
    "    mark_snake_condition!(sr, moving_side, ortogonal_side, mark_condition, (r) -> false)\n",
    "    move_to_corner!(sr, WestSud)\n",
    "    inv_path = invert(path)\n",
    "    follow_path!(sr, inv_path)\n",
    "end\n",
    "\n",
    "\n",
    "for case in 1:length(readdir(\"test_cases/mark_big_chess_board\"))\n",
    "    input_file_path = \"test_cases/mark_big_chess_board/case$case/input.sit\"\n",
    "    sr = SmartRobot(; file_name=input_file_path)\n",
    "    mark_big_chess_board!(sr, case)\n",
    "end"
   ]
  },
  {
   "cell_type": "markdown",
   "metadata": {},
   "source": [
    "### Task 11: Count bariers"
   ]
  },
  {
   "cell_type": "code",
   "execution_count": 15,
   "metadata": {},
   "outputs": [
    {
     "name": "stdout",
     "output_type": "stream",
     "text": [
      "20\n"
     ]
    }
   ],
   "source": [
    "include(\"RobotUtils.jl\")\n",
    "\n",
    "\n",
    "function count_bariers!(sr::SmartRobot)::Integer\n",
    "    move_to_corner!(sr, WestSud)\n",
    "    path = copy(sr.path)\n",
    "    count = 0\n",
    "    barier_side = Nord\n",
    "    side = Ost\n",
    "    should_stop_flag = false\n",
    "    while !should_stop_flag\n",
    "        (increment, should_stop_flag) = count_bariers_in_line!(sr, side, barier_side)\n",
    "        count += increment\n",
    "        if !should_stop_flag\n",
    "            side = invert(side)\n",
    "            move!(sr, barier_side)\n",
    "        end\n",
    "    end\n",
    "    move_to_corner!(sr, WestSud)\n",
    "    inv_path = invert(path)\n",
    "    follow_path!(sr, inv_path)\n",
    "    return count\n",
    "end\n",
    "\n",
    "@enum State Gap = 0 Barier = 1 Border = 2\n",
    "\n",
    "function count_bariers_in_line!(sr::SmartRobot, moving_side::HorizonSide, barier_side::HorizonSide)::Tuple\n",
    "    count = 0\n",
    "    if isborder(sr, barier_side)\n",
    "        state = Border\n",
    "    else\n",
    "        state = Gap\n",
    "    end\n",
    "    while !isborder(sr, moving_side)\n",
    "        if state == Border || state == Barier\n",
    "            move!(sr, moving_side)\n",
    "            if !isborder(sr, barier_side)\n",
    "                state = Gap\n",
    "                count += 1\n",
    "            end\n",
    "        else # state == Gap\n",
    "            move!(sr, moving_side)\n",
    "            if isborder(sr, barier_side)\n",
    "                state = Barier\n",
    "            end\n",
    "        end\n",
    "    end\n",
    "    if state == Border\n",
    "        should_stop_flag = true\n",
    "    else\n",
    "        should_stop_flag = false\n",
    "    end\n",
    "    return (count, should_stop_flag)\n",
    "end\n",
    "\n",
    "\n",
    "for case in 1:length(readdir(\"test_cases/count_bariers\"))\n",
    "    input_file_path = \"test_cases/count_bariers/case$case/input.sit\"\n",
    "    sr = SmartRobot(; file_name=input_file_path)\n",
    "    println(count_bariers!(sr))\n",
    "end"
   ]
  },
  {
   "cell_type": "markdown",
   "metadata": {},
   "source": [
    "### Task 12: Count bariers considering bariers with one gap as one"
   ]
  },
  {
   "cell_type": "code",
   "execution_count": 16,
   "metadata": {},
   "outputs": [
    {
     "name": "stdout",
     "output_type": "stream",
     "text": [
      "12\n"
     ]
    }
   ],
   "source": [
    "include(\"RobotUtils.jl\")\n",
    "\n",
    "\n",
    "function count_bariers_one_gap!(sr::SmartRobot)::Integer\n",
    "    move_to_corner!(sr, WestSud)\n",
    "    path = copy(sr.path)\n",
    "    count = 0\n",
    "    barier_side = Nord\n",
    "    side = Ost\n",
    "    should_stop_flag = false\n",
    "    while !should_stop_flag\n",
    "        (increment, should_stop_flag) = count_bariers_in_line_one_gap!(sr, side, barier_side)\n",
    "        count += increment\n",
    "        if !should_stop_flag\n",
    "            side = invert(side)\n",
    "            move!(sr, barier_side)\n",
    "        end\n",
    "    end\n",
    "    move_to_corner!(sr, WestSud)\n",
    "    inv_path = invert(path)\n",
    "    follow_path!(sr, inv_path)\n",
    "    return count\n",
    "end\n",
    "\n",
    "@enum State Gap = 0 Barier = 1 Border = 2 OneGapBarier = 3\n",
    "\n",
    "function count_bariers_in_line_one_gap!(sr::SmartRobot, moving_side::HorizonSide, barier_side::HorizonSide)::Tuple\n",
    "    count = 0\n",
    "    if isborder(sr, barier_side)\n",
    "        state = Border\n",
    "    else\n",
    "        state = Gap\n",
    "    end\n",
    "    while !isborder(sr, moving_side)\n",
    "        if state == Border || state == Barier\n",
    "            move!(sr, moving_side)\n",
    "            if !isborder(sr, barier_side)\n",
    "                state = OneGapBarier\n",
    "                if isborder(sr, moving_side)\n",
    "                    count += 1\n",
    "                end\n",
    "            end\n",
    "        elseif state == OneGapBarier\n",
    "            move!(sr, moving_side)\n",
    "            if !isborder(sr, barier_side)\n",
    "                state = Gap\n",
    "                count += 1\n",
    "            else\n",
    "                state = Barier\n",
    "            end\n",
    "        else # state == Gap\n",
    "            move!(sr, moving_side)\n",
    "            if isborder(sr, barier_side)\n",
    "                state = Barier\n",
    "            end\n",
    "        end\n",
    "    end\n",
    "    if state == Border\n",
    "        should_stop_flag = true\n",
    "    else\n",
    "        should_stop_flag = false\n",
    "    end\n",
    "    return (count, should_stop_flag)\n",
    "end\n",
    "\n",
    "\n",
    "for case in 1:length(readdir(\"test_cases/count_bariers_one_gap\"))\n",
    "    input_file_path = \"test_cases/count_bariers_one_gap/case$case/input.sit\"\n",
    "    sr = SmartRobot(; file_name=input_file_path)\n",
    "    println(count_bariers_one_gap!(sr))\n",
    "end"
   ]
  },
  {
   "cell_type": "markdown",
   "metadata": {},
   "source": [
    "### Task 13: Mark chess board with **mark_snake_condition!()** (Implementation is completely identical to Task 9 Solution)"
   ]
  },
  {
   "cell_type": "code",
   "execution_count": 17,
   "metadata": {},
   "outputs": [],
   "source": [
    "include(\"RobotUtils.jl\")\n",
    "\n",
    "\n",
    "function mark_chess_board!(sr::SmartRobot)\n",
    "    move_to_corner!(sr, WestSud)\n",
    "    path = copy(sr.path)\n",
    "    moving_side = Ost\n",
    "    ortogonal_side = Nord\n",
    "\n",
    "    mark_snake_condition!(\n",
    "        sr, moving_side, ortogonal_side,\n",
    "        (r) -> mod(getcoord(r).x + getcoord(r).y, 2) == 0, (r) -> false\n",
    "    )\n",
    "    move_to_corner!(sr, WestSud)\n",
    "    inv_path = invert(path)\n",
    "    follow_path!(sr, inv_path)\n",
    "end\n",
    "\n",
    "\n",
    "for case in 1:length(readdir(\"test_cases/mark_chess_board\"))\n",
    "    input_file_path = \"test_cases/mark_chess_board/case$case/input.sit\"\n",
    "    sr = SmartRobot(; file_name=input_file_path)\n",
    "    mark_chess_board!(sr)\n",
    "end"
   ]
  },
  {
   "cell_type": "markdown",
   "metadata": {},
   "source": [
    "### Task 14: Mark chess board with simple borders"
   ]
  },
  {
   "cell_type": "code",
   "execution_count": null,
   "metadata": {},
   "outputs": [],
   "source": [
    "include(\"RobotUtils.jl\")\n",
    "\n",
    "\n",
    "function mark_chess_board_borders!(sr::SmartRobot)\n",
    "    move_to_corner!(sr, WestSud)\n",
    "    path = copy(sr.path)\n",
    "    moving_side = Ost\n",
    "    ortogonal_side = Nord\n",
    "\n",
    "    avoid_mark_snake_condition!(\n",
    "        sr, moving_side, ortogonal_side,\n",
    "        (r) -> mod(getcoord(r).x + getcoord(r).y, 2) == 0, (r) -> false\n",
    "    )\n",
    "    move_to_corner!(sr, WestSud)\n",
    "    inv_path = invert(path)\n",
    "    follow_path!(sr, inv_path)\n",
    "end\n",
    "\n",
    "\n",
    "for case in 1:length(readdir(\"test_cases/mark_chess_board_borders\"))\n",
    "    input_file_path = \"test_cases/mark_chess_board_borders/case$case/input.sit\"\n",
    "    sr = SmartRobot(; file_name=input_file_path)\n",
    "    mark_chess_board_borders!(sr)\n",
    "end"
   ]
  },
  {
   "cell_type": "markdown",
   "metadata": {},
   "source": [
    "### Task 15: Task 4 with simple borders"
   ]
  },
  {
   "cell_type": "code",
   "execution_count": null,
   "metadata": {},
   "outputs": [],
   "source": [
    "include(\"RobotUtils.jl\")\n",
    "\n",
    "\n",
    "function diagonal_cross_borders!(sr::SmartRobot)\n",
    "    move_to_corner!(sr, WestSud)\n",
    "    path = copy(sr.path)\n",
    "    moving_side = Ost\n",
    "    ortogonal_side = Nord\n",
    "\n",
    "    avoid_mark_snake_condition!(\n",
    "        sr, moving_side, ortogonal_side,\n",
    "        (r) -> abs(getcoord(r).x) == abs(getcoord(r).y), (r) -> false\n",
    "    )\n",
    "    move_to_corner!(sr, WestSud)\n",
    "    inv_path = invert(path)\n",
    "    follow_path!(sr, inv_path)\n",
    "end\n",
    "\n",
    "\n",
    "for case in 1:length(readdir(\"test_cases/diagonal_cross_borders\"))\n",
    "    input_file_path = \"test_cases/diagonal_cross_borders/case$case/input.sit\"\n",
    "    sr = SmartRobot(; file_name=input_file_path)\n",
    "    diagonal_cross_borders!(sr)\n",
    "end"
   ]
  },
  {
   "cell_type": "markdown",
   "metadata": {},
   "source": [
    "### Task 16: Task 7 using function **mark_shuttle_condition!()** (Implementation is completely identical to Task 7)"
   ]
  },
  {
   "cell_type": "code",
   "execution_count": null,
   "metadata": {},
   "outputs": [],
   "source": [
    "include(\"RobotUtils.jl\")\n",
    "\n",
    "\n",
    "function find_gap_in_infinite_wall!(sr::SmartRobot)\n",
    "    border_side = check_border(sr)\n",
    "    if border_side == Ost || border_side == West\n",
    "        side = Nord\n",
    "    else # if border_side == Nord || border_side == Sud\n",
    "        side = Ost\n",
    "    end\n",
    "    mark_shuttle_condition!(sr, side, (r) -> false, (r) -> !isborder(r, border_side))\n",
    "    move!(sr, border_side)\n",
    "    path = copy(sr.path)\n",
    "    inv_path = invert(path)\n",
    "    move_steps!(sr, inv_path.path[2][1], div(inv_path.path[2][2], 2))\n",
    "end\n",
    "\n",
    "\"\"\"\n",
    "The function returns the first found border in the order (Ost, Nord, West, Sud).\n",
    "\"\"\"\n",
    "function check_border(sr::SmartRobot)::HorizonSide\n",
    "    for side in (Ost, Nord, West, Sud)\n",
    "        if isborder(sr, side)\n",
    "            return side\n",
    "        end\n",
    "    end\n",
    "end\n",
    "\n",
    "for case in 1:length(readdir(\"test_cases/find_gap_in_infinite_wall\"))\n",
    "    input_file_path = \"test_cases/find_gap_in_infinite_wall/case$case/input.sit\"\n",
    "    sr = SmartRobot(; file_name=input_file_path)\n",
    "    find_gap_in_infinite_wall!(sr)\n",
    "end"
   ]
  },
  {
   "cell_type": "markdown",
   "metadata": {},
   "source": [
    "### Task 17: Task 8 using function **mark_spiral_condition!()** (Implementation is completely identical to Task 8)"
   ]
  },
  {
   "cell_type": "code",
   "execution_count": null,
   "metadata": {},
   "outputs": [],
   "source": [
    "include(\"RobotUtils.jl\")\n",
    "\n",
    "\n",
    "function find_marker_on_infinite_field!(sr::SmartRobot)\n",
    "    mark_spiral_condition!(sr, Ost, (r) -> false, (r) -> ismarker(r))\n",
    "end\n",
    "\n",
    "\n",
    "for case in 1:length(readdir(\"test_cases/find_marker_on_infinite_field\"))\n",
    "    input_file_path = \"test_cases/find_marker_on_infinite_field/case$case/input.sit\"\n",
    "    sr = SmartRobot(; file_name=input_file_path)\n",
    "    find_marker_on_infinite_field!(sr)\n",
    "end"
   ]
  },
  {
   "cell_type": "markdown",
   "metadata": {},
   "source": [
    "### Task 18(a): Task 17 with simple borders"
   ]
  },
  {
   "cell_type": "code",
   "execution_count": null,
   "metadata": {},
   "outputs": [],
   "source": [
    "include(\"RobotUtils.jl\")\n",
    "\n",
    "\n",
    "function find_marker_on_infinite_field_with_borders!(sr::SmartRobot)\n",
    "    avoid_mark_spiral_condition!(sr, Ost, (r) -> false, (r) -> ismarker(r))\n",
    "end\n",
    "\n",
    "function avoid_mark_spiral_condition!(\n",
    "    sr::SmartRobot,\n",
    "    moving_side::HorizonSide,\n",
    "    mark_condition::Function,\n",
    "    stop_condition::Function\n",
    ")\n",
    "    steps = 0\n",
    "    while !stop_condition(sr)\n",
    "        steps += 1\n",
    "        avoid_mark_line_shuttle_steps_condition!(sr, moving_side, steps, mark_condition, stop_condition)\n",
    "        moving_side = rotate(moving_side)\n",
    "        avoid_mark_line_shuttle_steps_condition!(sr, moving_side, steps, mark_condition, stop_condition)\n",
    "        moving_side = rotate(moving_side)\n",
    "    end\n",
    "end\n",
    "\n",
    "function avoid_mark_line_shuttle_steps_condition!(\n",
    "    sr::SmartRobot,\n",
    "    direction::HorizonSide,\n",
    "    steps::Integer,\n",
    "    mark_condition::Function,\n",
    "    stop_condition::Function\n",
    ")\n",
    "    if mark_condition(sr)\n",
    "        putmarker!(sr)\n",
    "    end\n",
    "    for i in 1:steps\n",
    "        if stop_condition(sr)\n",
    "            break\n",
    "        end\n",
    "        if !isborder(sr, direction)\n",
    "            if mark_condition(sr)\n",
    "                putmarker!(sr)\n",
    "            end\n",
    "            try_move!(sr, direction)\n",
    "            if mark_condition(sr)\n",
    "                putmarker!(sr)\n",
    "            end\n",
    "        else\n",
    "            avoid_obstacle!(sr, direction)\n",
    "        end\n",
    "    end\n",
    "end\n",
    "\n",
    "\n",
    "for case in 1:length(readdir(\"test_cases/find_marker_on_infinite_field_with_borders\"))\n",
    "    input_file_path = \"test_cases/find_marker_on_infinite_field_with_borders/case$case/input.sit\"\n",
    "    sr = SmartRobot(; file_name=input_file_path)\n",
    "    find_marker_on_infinite_field_with_borders!(sr)\n",
    "end"
   ]
  },
  {
   "cell_type": "markdown",
   "metadata": {},
   "source": [
    "### Task 18(b): Task 17 with infinite borders"
   ]
  },
  {
   "cell_type": "code",
   "execution_count": null,
   "metadata": {},
   "outputs": [],
   "source": [
    "include(\"RobotUtils.jl\")\n",
    "\n",
    "\n",
    "function find_marker_on_infinite_field_with_infinite_borders!(sr::SmartRobot)\n",
    "    avoid_mark_spiral_condition!(sr, Ost, (r) -> false, (r) -> ismarker(r))\n",
    "end\n",
    "\n",
    "function avoid_mark_spiral_condition!(\n",
    "    sr::SmartRobot,\n",
    "    moving_side::HorizonSide,\n",
    "    mark_condition::Function,\n",
    "    stop_condition::Function\n",
    ")\n",
    "    steps = 0\n",
    "    while !stop_condition(sr)\n",
    "        steps += 1\n",
    "        avoid_mark_line_shuttle_steps_condition!(sr, moving_side, steps, mark_condition, stop_condition)\n",
    "        moving_side = rotate(moving_side)\n",
    "        avoid_mark_line_shuttle_steps_condition!(sr, moving_side, steps, mark_condition, stop_condition)\n",
    "        moving_side = rotate(moving_side)\n",
    "    end\n",
    "end\n",
    "\n",
    "function avoid_mark_line_shuttle_steps_condition!(\n",
    "    sr::SmartRobot,\n",
    "    direction::HorizonSide,\n",
    "    steps::Integer,\n",
    "    mark_condition::Function,\n",
    "    stop_condition::Function\n",
    ")\n",
    "    if mark_condition(sr)\n",
    "        putmarker!(sr)\n",
    "    end\n",
    "    for i in 1:steps\n",
    "        if !isborder(sr, direction)\n",
    "            if stop_condition(sr)\n",
    "                break\n",
    "            end\n",
    "            if mark_condition(sr)\n",
    "                putmarker!(sr)\n",
    "            end\n",
    "            try_move!(sr, direction)\n",
    "            if mark_condition(sr)\n",
    "                putmarker!(sr)\n",
    "            end\n",
    "        else\n",
    "            move_around_barier_shuttle!(sr, direction)\n",
    "        end\n",
    "    end\n",
    "end\n",
    "\n",
    "\n",
    "for case in 1:length(readdir(\"test_cases/find_marker_on_infinite_field_with_infinite_borders\"))\n",
    "    input_file_path = \"test_cases/find_marker_on_infinite_field_with_infinite_borders/case$case/input.sit\"\n",
    "    sr = SmartRobot(; file_name=input_file_path)\n",
    "    find_marker_on_infinite_field_with_infinite_borders!(sr)\n",
    "end"
   ]
  },
  {
   "cell_type": "markdown",
   "metadata": {},
   "source": [
    "## Additional Tasks"
   ]
  },
  {
   "cell_type": "markdown",
   "metadata": {},
   "source": [
    "### Task A1: Count markers on field"
   ]
  },
  {
   "cell_type": "code",
   "execution_count": null,
   "metadata": {},
   "outputs": [],
   "source": [
    "include(\"RobotUtils.jl\")\n",
    "\n",
    "\n",
    "function count_markers!(sr::SmartRobot)\n",
    "    move_to_corner!(sr, WestSud)\n",
    "    path = copy(sr.path)\n",
    "    clear_data!(sr)\n",
    "\n",
    "    mark_snake_condition!(sr, Ost, Nord, (r) -> false, (r) -> false)\n",
    "    move_to_corner!(sr, WestSud)\n",
    "    inv_path = invert(path)\n",
    "    follow_path!(sr, inv_path)\n",
    "    return get_marker_count(sr)\n",
    "end\n",
    "\n",
    "\n",
    "for case in 1:length(readdir(\"test_cases/count_markers\"))\n",
    "    input_file_path = \"test_cases/count_markers/case$case/input.sit\"\n",
    "    sr = SmartRobot(; file_name=input_file_path)\n",
    "    println(count_markers!(sr))\n",
    "end"
   ]
  },
  {
   "cell_type": "markdown",
   "metadata": {},
   "source": [
    "### Task A2: Calculate average marked temperature"
   ]
  },
  {
   "cell_type": "code",
   "execution_count": null,
   "metadata": {},
   "outputs": [],
   "source": [
    "include(\"RobotUtils.jl\")\n",
    "\n",
    "\n",
    "function average_marked_temperature!(sr::SmartRobot)::Number\n",
    "    temperature_sum = 0\n",
    "    marker_count = 0\n",
    "    move_to_corner!(sr, WestSud)\n",
    "    path = copy(sr.path)\n",
    "    side = Ost\n",
    "    while !isborder(sr, Nord)\n",
    "        return_tuple = count_temperature!(sr, side)\n",
    "        temperature_sum += return_tuple[1]\n",
    "        marker_count += return_tuple[2]\n",
    "        move!(sr, Nord)\n",
    "        side = invert(side)\n",
    "    end\n",
    "    return_tuple = count_temperature!(sr, side)\n",
    "    temperature_sum += return_tuple[1]\n",
    "    marker_count += return_tuple[2]\n",
    "\n",
    "    move_to_corner!(sr, WestSud)\n",
    "    inv_path = invert(path)\n",
    "    follow_path!(sr, inv_path)\n",
    "\n",
    "    return temperature_sum / marker_count\n",
    "end\n",
    "\n",
    "function count_temperature!(sr::SmartRobot, side::HorizonSide)\n",
    "    temperature_sum = 0\n",
    "    marker_count = 0\n",
    "    while !isborder(sr, side)\n",
    "        if ismarker(sr)\n",
    "            temperature_sum += temperature(sr)\n",
    "            marker_count += 1\n",
    "        end\n",
    "        move!(sr, side)\n",
    "    end\n",
    "    if ismarker(sr)\n",
    "        temperature_sum += temperature(sr)\n",
    "        marker_count += 1\n",
    "    end\n",
    "    return (temperature_sum, marker_count)\n",
    "end\n",
    "\n",
    "\n",
    "for case in 1:length(readdir(\"test_cases/average_marked_temperature\"))\n",
    "    input_file_path = \"test_cases/average_marked_temperature/case$case/input.sit\"\n",
    "    sr = SmartRobot(; file_name=input_file_path)\n",
    "    println(average_marked_temperature!(sr))\n",
    "end"
   ]
  },
  {
   "cell_type": "markdown",
   "metadata": {},
   "source": [
    "### Task A3: Mark stairs"
   ]
  },
  {
   "cell_type": "code",
   "execution_count": null,
   "metadata": {},
   "outputs": [],
   "source": [
    "include(\"RobotUtils.jl\")\n",
    "\n",
    "\n",
    "function stairs!(sr::SmartRobot)\n",
    "    move_to_corner!(sr, WestSud)\n",
    "    path = copy(sr.path)\n",
    "    clear_data!(sr)\n",
    "    count = move_until!(sr, Ost)\n",
    "    move_until!(sr, West)\n",
    "    mark_snake_condition!(sr, Ost, Nord, (r) -> getcoord(r).x + getcoord(r).y <= count, (r) -> false)\n",
    "    move_to_corner!(sr, WestSud)\n",
    "    inv_path = invert(path)\n",
    "    follow_path!(sr, inv_path)\n",
    "end\n",
    "\n",
    "\n",
    "for case in 1:length(readdir(\"test_cases/stairs\"))\n",
    "    input_file_path = \"test_cases/stairs/case$case/input.sit\"\n",
    "    sr = SmartRobot(; file_name=input_file_path)\n",
    "    stairs!(sr)\n",
    "end"
   ]
  }
 ],
 "metadata": {
  "kernelspec": {
   "display_name": "Julia 1.9.3",
   "language": "julia",
   "name": "julia-1.9"
  },
  "language_info": {
   "file_extension": ".jl",
   "mimetype": "application/julia",
   "name": "julia",
   "version": "1.9.3"
  }
 },
 "nbformat": 4,
 "nbformat_minor": 2
}
